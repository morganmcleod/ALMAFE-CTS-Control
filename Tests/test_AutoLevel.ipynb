{
 "cells": [
  {
   "cell_type": "code",
   "execution_count": 1,
   "metadata": {},
   "outputs": [],
   "source": [
    "import sys\n",
    "import configparser\n",
    "import logging\n",
    "import plotly.graph_objects as go\n",
    "sys.path.append(r'L:\\Python\\ALMAFE-Instr')\n",
    "sys.path.append(r'L:\\Python\\ALMAFE-AMBDeviceLibrary')\n",
    "from INSTR.InputSwitch.ExternalSwitch import ExternalSwitch, InputSelect\n",
    "from INSTR.SpectrumAnalyzer.SpectrumAnalyzer import SpectrumAnalyzer, SpectrumAnalyzerSettings\n",
    "from Control.IFSystem.TemporaryB6v2 import IFSystem\n",
    "from Control.PowerDetect.PDSpecAn import PDSpecAn\n",
    "from Control.RFAutoLevel import RFAutoLevel\n",
    "from Control.RFSource import RFSource\n",
    "from AMB.AMBConnectionDLL import AMBConnectionDLL\n",
    "\n",
    "CARTRIDGE_BAND = 6\n",
    "RF_SOURCE_PORT = 7\n",
    "RF_SOURCE_PA_POL = 0\n",
    "NODE_ADDR = 0x13\n",
    "\n",
    "LOG_TO_FILE = True\n",
    "LOG_FILE = 'ALMAFE-CTS-Control.log'\n",
    "\n",
    "logger = logging.getLogger(\"ALMAFE-CTS-Control\")\n",
    "logger.setLevel(logging.INFO)\n",
    "if LOG_TO_FILE:\n",
    "    handler = logging.FileHandler(LOG_FILE)\n",
    "else:\n",
    "    handler = logging.StreamHandler()\n",
    "handler.setFormatter(logging.Formatter(fmt = '%(asctime)s %(levelname)s:%(message)s'))\n",
    "logger.addHandler(handler)\n",
    "\n",
    "logger2 = logging.getLogger(\"ALMAFE-AMBDeviceLibrary\")\n",
    "logger2.setLevel(logging.INFO)\n",
    "logger2.addHandler(handler)\n",
    "\n",
    "logger.info(\"---- test_AutoLevel start ----\")\n",
    "\n",
    "config = configparser.ConfigParser()\n",
    "config.read('FrontEndAMBDLL.ini')\n",
    "dllName = config['load']['dll']\n",
    "conn = AMBConnectionDLL(channel = RF_SOURCE_PA_POL, dllName = dllName)\n",
    "rfSource = RFSource(conn, NODE_ADDR, CARTRIDGE_BAND, RF_SOURCE_PORT, RF_SOURCE_PA_POL)\n",
    "\n",
    "externalSwitch = ExternalSwitch()\n",
    "spectrumAnalyzer = SpectrumAnalyzer()\n",
    "ifSystem = IFSystem(externalSwitch, spectrumAnalyzer)\n",
    "powerDetect = PDSpecAn(spectrumAnalyzer)\n",
    "rfAutoLevel = RFAutoLevel(ifSystem, powerDetect, rfSource)\n"
   ]
  },
  {
   "cell_type": "code",
   "execution_count": 4,
   "metadata": {},
   "outputs": [
    {
     "data": {
      "text/plain": [
       "(True, '')"
      ]
     },
     "execution_count": 4,
     "metadata": {},
     "output_type": "execute_result"
    }
   ],
   "source": [
    "specAnSettings = SpectrumAnalyzerSettings(attenuation = 2, resolutionBW = 10e3, enableInternalPreamp = False)\n",
    "powerDetect.configure(config = specAnSettings)\n",
    "rfAutoLevel.autoLevel(10, -30)"
   ]
  }
 ],
 "metadata": {
  "kernelspec": {
   "display_name": "CTS-env-3.11",
   "language": "python",
   "name": "python3"
  },
  "language_info": {
   "codemirror_mode": {
    "name": "ipython",
    "version": 3
   },
   "file_extension": ".py",
   "mimetype": "text/x-python",
   "name": "python",
   "nbconvert_exporter": "python",
   "pygments_lexer": "ipython3",
   "version": "3.11.7"
  }
 },
 "nbformat": 4,
 "nbformat_minor": 2
}
