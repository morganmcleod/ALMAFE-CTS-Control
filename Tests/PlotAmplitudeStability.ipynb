{
 "cells": [
  {
   "cell_type": "code",
   "execution_count": 1,
   "metadata": {},
   "outputs": [
    {
     "name": "stdout",
     "output_type": "stream",
     "text": [
      "projectRoot: l:\\Python\\ALMAFE-CTS-Control\n",
      "pythonRoot: l:\\Python\n"
     ]
    }
   ],
   "source": [
    "import sys\n",
    "from pathlib import Path\n",
    "\n",
    "projectRoot = Path.cwd()\n",
    "print(\"projectRoot:\", projectRoot)\n",
    "pythonRoot = projectRoot.parent\n",
    "print(\"pythonRoot:\", pythonRoot)\n",
    "sys.path.append(str(pythonRoot) + '/ALMAFE-AmpPhasePlot')\n",
    "\n",
    "from AmpPhaseDataLib.TimeSeriesAPI import TimeSeriesAPI\n",
    "from AmpPhaseDataLib.TimeSeries import TimeSeries\n",
    "from AmpPhaseDataLib.Constants import Units, DataSource, SpecLines, DataKind, PlotEl, StabilityUnits\n",
    "from AmpPhasePlotLib.PlotAPI import PlotAPI\n",
    "\n"
   ]
  },
  {
   "cell_type": "code",
   "execution_count": 2,
   "metadata": {},
   "outputs": [],
   "source": [
    "testIds = list(range(296, 308))\n",
    "timeSeriesAPI = TimeSeriesAPI()\n",
    "plotAPI = PlotAPI()\n",
    "timeSeries0 = timeSeriesAPI.retrieveTimeSeries(testIds[0])\n",
    "plotEls = {\n",
    "    PlotEl.TITLE : \"Amplitude stability\",\n",
    "    PlotEl.SPEC_LINE1 : SpecLines.BAND6_AMP_STABILITY1, \n",
    "    PlotEl.SPEC_LINE2 : SpecLines.BAND6_AMP_STABILITY2,\n",
    "    PlotEl.Y_AXIS_LABEL : StabilityUnits.AVAR_TAU.value.format(round(timeSeries0.tau0Seconds, 2))\n",
    "}      \n",
    "success = plotAPI.plotAmplitudeStability([key for key in testIds], None, plotEls, outputName = \"AmpStabilitySN082-1.png\")"
   ]
  }
 ],
 "metadata": {
  "kernelspec": {
   "display_name": "CTS-env-3.11",
   "language": "python",
   "name": "python3"
  },
  "language_info": {
   "codemirror_mode": {
    "name": "ipython",
    "version": 3
   },
   "file_extension": ".py",
   "mimetype": "text/x-python",
   "name": "python",
   "nbconvert_exporter": "python",
   "pygments_lexer": "ipython3",
   "version": "3.11.7"
  }
 },
 "nbformat": 4,
 "nbformat_minor": 2
}
