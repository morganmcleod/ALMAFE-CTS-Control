{
 "cells": [
  {
   "cell_type": "code",
   "execution_count": 1,
   "metadata": {},
   "outputs": [
    {
     "name": "stdout",
     "output_type": "stream",
     "text": [
      "projectRoot: l:\\Python\\almafe-cts-control\n",
      "pythonRoot: l:\\Python\n"
     ]
    }
   ],
   "source": [
    "import sys\n",
    "from pathlib import Path\n",
    "\n",
    "projectRoot = Path.cwd()\n",
    "print(\"projectRoot:\", projectRoot)\n",
    "pythonRoot = projectRoot.parent\n",
    "print(\"pythonRoot:\", pythonRoot)\n",
    "sys.path.append(str(pythonRoot) + '/ALMAFE-AmpPhasePlot')\n",
    "\n",
    "from AmpPhaseDataLib.TimeSeriesAPI import TimeSeriesAPI\n",
    "from AmpPhaseDataLib.TimeSeries import TimeSeries\n",
    "from AmpPhaseDataLib.Constants import Units, DataSource, SpecLines, DataKind, PlotEl, StabilityUnits\n",
    "from AmpPhasePlotLib.PlotAPI import PlotAPI\n",
    "\n"
   ]
  },
  {
   "cell_type": "code",
   "execution_count": null,
   "metadata": {},
   "outputs": [],
   "source": [
    "CCASN = \"059\"\n",
    "testIds = list(range(56, 68))\n",
    "timeSeriesAPI = TimeSeriesAPI()\n",
    "plotAPI = PlotAPI()\n",
    "timeSeries0 = timeSeriesAPI.retrieveTimeSeries(testIds[0])\n",
    "plotElsAvar = {\n",
    "    PlotEl.TITLE : \"Amplitude stability\",\n",
    "    PlotEl.SPEC_LINE1 : SpecLines.BAND6_AMP_STABILITY1, \n",
    "    PlotEl.SPEC_LINE2 : SpecLines.BAND6_AMP_STABILITY2,\n",
    "    PlotEl.Y_AXIS_LABEL : StabilityUnits.AVAR_TAU.value.format(round(timeSeries0.tau0Seconds, 2))\n",
    "}\n",
    "# success = plotAPI.plotAmplitudeStability([key for key in testIds], None, plotElsAvar, outputName = f\"AmpStabilityCCA{CCASN}.png\")\n",
    "for key in testIds:\n",
    "    success = plotAPI.plotSpectrum(key, None, None, outputName = f\"AmpSpectrumCCA{CCASN}-{key}.png\")"
   ]
  }
 ],
 "metadata": {
  "kernelspec": {
   "display_name": "CTS_32",
   "language": "python",
   "name": "python3"
  },
  "language_info": {
   "codemirror_mode": {
    "name": "ipython",
    "version": 3
   },
   "file_extension": ".py",
   "mimetype": "text/x-python",
   "name": "python",
   "nbconvert_exporter": "python",
   "pygments_lexer": "ipython3",
   "version": "3.10.4"
  }
 },
 "nbformat": 4,
 "nbformat_minor": 2
}
